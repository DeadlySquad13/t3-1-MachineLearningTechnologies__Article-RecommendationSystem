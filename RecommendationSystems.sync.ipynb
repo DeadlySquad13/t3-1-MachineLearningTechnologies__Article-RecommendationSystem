{
 "cells": [
  {
   "cell_type": "markdown",
   "id": "5abbed96",
   "metadata": {},
   "source": [
    "# Рекомендательные системы\n",
    "Выполнил работу **Пакало Александр Сергеевич**, студент РТ5-61Б"
   ]
  },
  {
   "cell_type": "markdown",
   "id": "6dd7454a",
   "metadata": {},
   "source": [
    "# Цель работы\n",
    "Необходимо предложить пользователям Яндекс.Карт соответствующие их вкусу\n",
    "кафе, бары и рестораны в неродном городе: москвичам – в Санкт-Петербурге, а\n",
    "петербуржцам – в Москве. В качестве данных предоставлена анонимизированная\n",
    "информация о реальных отзывах и оценках, оставляемых пользователями\n",
    "Яндекс.Карт на заведения общепита Москвы и Санкт-Петербурга, и различная\n",
    "информация о самих заведениях.\n",
    "\n",
    "В частности, каждый отзыв содержит множество\n",
    "аспектов (упомянутые в отзыве блюда, особенности и т. п.), извлеченных из\n",
    "отзыва с помощью NLP-алгоритма. Для заданного множества москвичей и\n",
    "петербуржцев нужно предсказать, какие заведения в неродном городе они\n",
    "посетят, оставив при этом положительный отзыв с оценкой 4 или 5.\n",
    "\n",
    "Так как данных очень много, перед тем как приступить к анализу, проведем обзор данных и, возможно, потребуется их предобработка, чтобы датасет стал более удобным и пригодным к проведению исследования.\n",
    "\n",
    "Таким образом исследование пройдет в 6 этапов:\n",
    "- загрузка данных,\n",
    "- проведение разведочного анализа данных и предобработка данных,\n",
    "- разделение на обучающую и тестовую выборку,\n",
    "- выбор метрики,\n",
    "- подбор рекомендаций с помощью различных моделей,\n",
    "- анализ результатов моделей на основе метрики."
   ]
  },
  {
   "cell_type": "markdown",
   "id": "c874ae6c",
   "metadata": {},
   "source": [
    "# Импорт библиотек"
   ]
  },
  {
   "cell_type": "code",
   "execution_count": 46,
   "id": "07f81aad",
   "metadata": {},
   "outputs": [],
   "source": [
    "# Основные библиотеки.\n",
    "import numpy as np\n",
    "import pandas as pd\n",
    "\n",
    "# Визуализция.\n",
    "import matplotlib.pyplot as plt\n",
    "import seaborn as sns\n",
    "\n",
    "# Для матрицы взаимодействий.\n",
    "from scipy import sparse\n",
    "\n",
    "# Отрисовка статуса выполнения.\n",
    "from tqdm.notebook import tqdm\n",
    "\n",
    "# Типизация.\n",
    "from typing import List\n",
    "\n",
    "# Настройки отрисовки графиков.\n",
    "%matplotlib inline"
   ]
  },
  {
   "cell_type": "markdown",
   "id": "b9aaad83",
   "metadata": {},
   "source": [
    "# Загрузка данных"
   ]
  },
  {
   "cell_type": "markdown",
   "id": "90675575",
   "metadata": {},
   "source": [
    "## Считываем данные из .csv\n",
    "Загрузим файлы датасета в помощью библиотеки Pandas.\n",
    "\n",
    "Не смотря на то, что файлы имеют расширение txt они представляют собой данные\n",
    "в формате [CSV](https://ru.wikipedia.org/wiki/CSV). Часто в файлах такого\n",
    "формата в качестве разделителей используются символы \",\", \";\" или табуляция.\n",
    "Поэтому вызывая метод read_csv всегда стоит явно указывать разделитель данных\n",
    "с помощью параметра sep. Чтобы узнать какой разделитель используется в файле\n",
    "его рекомендуется предварительно посмотреть в любом текстовом редакторе."
   ]
  },
  {
   "cell_type": "markdown",
   "id": "086491ef",
   "metadata": {},
   "source": [
    "В первую очередь нам понадобятся данные по **пользователям**, **организациям** и сами **отзывы**. "
   ]
  },
  {
   "cell_type": "code",
   "execution_count": 47,
   "id": "12f523b9",
   "metadata": {
    "scrolled": true
   },
   "outputs": [],
   "source": [
    "users = pd.read_csv('data/users.csv', sep=',')"
   ]
  },
  {
   "cell_type": "code",
   "execution_count": 48,
   "id": "7de66fa5",
   "metadata": {},
   "outputs": [],
   "source": [
    "orgs = pd.read_csv('data/organisations.csv', sep=',')"
   ]
  },
  {
   "cell_type": "code",
   "execution_count": 49,
   "id": "d6ed3ca4",
   "metadata": {},
   "outputs": [],
   "source": [
    "# Читаем датасет по частям, затем соединяем в один. Позволяет загружать большие\n",
    "#   (500 мб и более) датасеты.\n",
    "#   К сожалению, даже при low_memory=True иногда падает кернел, несмотря на то\n",
    "#   что внутри используется схожий механизм.\n",
    "# - Количество рядов, содеражихся в одной части датасета.\n",
    "chunksize = 1000\n",
    "reviews = pd.concat(pd.read_csv('data/reviews.csv', chunksize=chunksize))"
   ]
  },
  {
   "cell_type": "markdown",
   "id": "6e6d4f06",
   "metadata": {},
   "source": [
    "# Проведение разведочного анализа данных. Построение графиков, необходимых для понимания структуры данных. Анализ и предобработка данных."
   ]
  },
  {
   "cell_type": "markdown",
   "id": "72d510ea",
   "metadata": {},
   "source": [
    "Размеры датасетов:\n",
    "- Пользователи - 1.250.944 строк, 2 колонки.\n",
    "- Организации - 66.346 строк, 6 колонок.\n",
    "- Отзывы - 3.642.383 строк, 5 колонок."
   ]
  },
  {
   "cell_type": "code",
   "execution_count": 50,
   "id": "862ce445",
   "metadata": {},
   "outputs": [
    {
     "data": {
      "text/plain": [
       "((1250994, 2), (66346, 6), (3642383, 5))"
      ]
     },
     "execution_count": 50,
     "metadata": {},
     "output_type": "execute_result"
    }
   ],
   "source": [
    "users.shape, orgs.shape, reviews.shape"
   ]
  },
  {
   "cell_type": "markdown",
   "id": "11cf5803",
   "metadata": {},
   "source": [
    "Общий вид данных таблицы пользователей:"
   ]
  },
  {
   "cell_type": "code",
   "execution_count": 51,
   "id": "1fc0192b",
   "metadata": {},
   "outputs": [
    {
     "data": {
      "text/html": [
       "<div>\n",
       "<style scoped>\n",
       "    .dataframe tbody tr th:only-of-type {\n",
       "        vertical-align: middle;\n",
       "    }\n",
       "\n",
       "    .dataframe tbody tr th {\n",
       "        vertical-align: top;\n",
       "    }\n",
       "\n",
       "    .dataframe thead th {\n",
       "        text-align: right;\n",
       "    }\n",
       "</style>\n",
       "<table border=\"1\" class=\"dataframe\">\n",
       "  <thead>\n",
       "    <tr style=\"text-align: right;\">\n",
       "      <th></th>\n",
       "      <th>user_id</th>\n",
       "      <th>city</th>\n",
       "    </tr>\n",
       "  </thead>\n",
       "  <tbody>\n",
       "    <tr>\n",
       "      <th>0</th>\n",
       "      <td>36BF53FF2D117FD6B70F11C1C2D2DD88609298CBF80A11...</td>\n",
       "      <td>msk</td>\n",
       "    </tr>\n",
       "    <tr>\n",
       "      <th>1</th>\n",
       "      <td>37C79862F940ED4A451304697F61E652FE120C868BBCD5...</td>\n",
       "      <td>msk</td>\n",
       "    </tr>\n",
       "    <tr>\n",
       "      <th>2</th>\n",
       "      <td>40279525A675CB54040C01C09A5AEE02794B187E24C204...</td>\n",
       "      <td>msk</td>\n",
       "    </tr>\n",
       "    <tr>\n",
       "      <th>3</th>\n",
       "      <td>40DD4DBAEFF1376F92DA3E08D36E3E81A2539228389143...</td>\n",
       "      <td>msk</td>\n",
       "    </tr>\n",
       "    <tr>\n",
       "      <th>4</th>\n",
       "      <td>FB01CDD7C500F53CB666EA7B182A5BB940271FCC9BF039...</td>\n",
       "      <td>msk</td>\n",
       "    </tr>\n",
       "  </tbody>\n",
       "</table>\n",
       "</div>"
      ],
      "text/plain": [
       "                                             user_id city\n",
       "0  36BF53FF2D117FD6B70F11C1C2D2DD88609298CBF80A11...  msk\n",
       "1  37C79862F940ED4A451304697F61E652FE120C868BBCD5...  msk\n",
       "2  40279525A675CB54040C01C09A5AEE02794B187E24C204...  msk\n",
       "3  40DD4DBAEFF1376F92DA3E08D36E3E81A2539228389143...  msk\n",
       "4  FB01CDD7C500F53CB666EA7B182A5BB940271FCC9BF039...  msk"
      ]
     },
     "execution_count": 51,
     "metadata": {},
     "output_type": "execute_result"
    }
   ],
   "source": [
    "users.head()"
   ]
  },
  {
   "cell_type": "markdown",
   "id": "8066776f",
   "metadata": {},
   "source": [
    "Список колонок:"
   ]
  },
  {
   "cell_type": "code",
   "execution_count": 52,
   "id": "c657b62e",
   "metadata": {},
   "outputs": [
    {
     "data": {
      "text/plain": [
       "Index(['user_id', 'city'], dtype='object')"
      ]
     },
     "execution_count": 52,
     "metadata": {},
     "output_type": "execute_result"
    }
   ],
   "source": [
    "users.columns"
   ]
  },
  {
   "cell_type": "markdown",
   "id": "bc7dbe01",
   "metadata": {},
   "source": [
    "Список колонок с типами данных:"
   ]
  },
  {
   "cell_type": "code",
   "execution_count": 53,
   "id": "dec12f03",
   "metadata": {},
   "outputs": [
    {
     "data": {
      "text/plain": [
       "user_id    object\n",
       "city       object\n",
       "dtype: object"
      ]
     },
     "execution_count": 53,
     "metadata": {},
     "output_type": "execute_result"
    }
   ],
   "source": [
    "users.dtypes"
   ]
  },
  {
   "cell_type": "markdown",
   "id": "630eb3d3",
   "metadata": {},
   "source": [
    "Общий вид данных таблицы организаций:"
   ]
  },
  {
   "cell_type": "code",
   "execution_count": 54,
   "id": "18ec368c",
   "metadata": {},
   "outputs": [
    {
     "data": {
      "text/html": [
       "<div>\n",
       "<style scoped>\n",
       "    .dataframe tbody tr th:only-of-type {\n",
       "        vertical-align: middle;\n",
       "    }\n",
       "\n",
       "    .dataframe tbody tr th {\n",
       "        vertical-align: top;\n",
       "    }\n",
       "\n",
       "    .dataframe thead th {\n",
       "        text-align: right;\n",
       "    }\n",
       "</style>\n",
       "<table border=\"1\" class=\"dataframe\">\n",
       "  <thead>\n",
       "    <tr style=\"text-align: right;\">\n",
       "      <th></th>\n",
       "      <th>org_id</th>\n",
       "      <th>city</th>\n",
       "      <th>average_bill</th>\n",
       "      <th>rating</th>\n",
       "      <th>rubrics_id</th>\n",
       "      <th>features_id</th>\n",
       "    </tr>\n",
       "  </thead>\n",
       "  <tbody>\n",
       "    <tr>\n",
       "      <th>0</th>\n",
       "      <td>DB02713EAD474F7DCB4FAB65333D4D360C6337BFC3CA43...</td>\n",
       "      <td>msk</td>\n",
       "      <td>500.0</td>\n",
       "      <td>4.378378</td>\n",
       "      <td>30771</td>\n",
       "      <td>1509 10462 11617 273469383 1082283206 1018 152...</td>\n",
       "    </tr>\n",
       "    <tr>\n",
       "      <th>1</th>\n",
       "      <td>31F077980B0BCC05B17B988E0017B538CE523A2ACB8FEA...</td>\n",
       "      <td>msk</td>\n",
       "      <td>500.0</td>\n",
       "      <td>4.166667</td>\n",
       "      <td>30519</td>\n",
       "      <td>1524 10462 11177 11629 1018 11704 1415 11867 2...</td>\n",
       "    </tr>\n",
       "    <tr>\n",
       "      <th>2</th>\n",
       "      <td>B16CB024197B053E9C713A79812ED658CA4B2FB8F5293C...</td>\n",
       "      <td>msk</td>\n",
       "      <td>500.0</td>\n",
       "      <td>3.687500</td>\n",
       "      <td>30776 30771</td>\n",
       "      <td>1524 11629 1018 11704 10462 12048 1416 246 204...</td>\n",
       "    </tr>\n",
       "    <tr>\n",
       "      <th>3</th>\n",
       "      <td>25308E05A46D9D40BDB6A6AC55CD422147D40B0B0D44B2...</td>\n",
       "      <td>msk</td>\n",
       "      <td>500.0</td>\n",
       "      <td>3.835417</td>\n",
       "      <td>30771</td>\n",
       "      <td>10462 3501744275 3501513153 20424 3501618484 2...</td>\n",
       "    </tr>\n",
       "    <tr>\n",
       "      <th>4</th>\n",
       "      <td>D9FB72E2B38AC2A03586074A0019ABA16F7EE761C08120...</td>\n",
       "      <td>msk</td>\n",
       "      <td>500.0</td>\n",
       "      <td>4.750000</td>\n",
       "      <td>3501750896</td>\n",
       "      <td>20282 20424 273469383 11617 11629 11177 10462 ...</td>\n",
       "    </tr>\n",
       "  </tbody>\n",
       "</table>\n",
       "</div>"
      ],
      "text/plain": [
       "                                              org_id city  average_bill  \\\n",
       "0  DB02713EAD474F7DCB4FAB65333D4D360C6337BFC3CA43...  msk         500.0   \n",
       "1  31F077980B0BCC05B17B988E0017B538CE523A2ACB8FEA...  msk         500.0   \n",
       "2  B16CB024197B053E9C713A79812ED658CA4B2FB8F5293C...  msk         500.0   \n",
       "3  25308E05A46D9D40BDB6A6AC55CD422147D40B0B0D44B2...  msk         500.0   \n",
       "4  D9FB72E2B38AC2A03586074A0019ABA16F7EE761C08120...  msk         500.0   \n",
       "\n",
       "     rating   rubrics_id                                        features_id  \n",
       "0  4.378378        30771  1509 10462 11617 273469383 1082283206 1018 152...  \n",
       "1  4.166667        30519  1524 10462 11177 11629 1018 11704 1415 11867 2...  \n",
       "2  3.687500  30776 30771  1524 11629 1018 11704 10462 12048 1416 246 204...  \n",
       "3  3.835417        30771  10462 3501744275 3501513153 20424 3501618484 2...  \n",
       "4  4.750000   3501750896  20282 20424 273469383 11617 11629 11177 10462 ...  "
      ]
     },
     "execution_count": 54,
     "metadata": {},
     "output_type": "execute_result"
    }
   ],
   "source": [
    "orgs.head()"
   ]
  },
  {
   "cell_type": "markdown",
   "id": "10c655ee",
   "metadata": {},
   "source": [
    "Список колонок:"
   ]
  },
  {
   "cell_type": "code",
   "execution_count": 55,
   "id": "eccb252a",
   "metadata": {},
   "outputs": [
    {
     "data": {
      "text/plain": [
       "Index(['org_id', 'city', 'average_bill', 'rating', 'rubrics_id',\n",
       "       'features_id'],\n",
       "      dtype='object')"
      ]
     },
     "execution_count": 55,
     "metadata": {},
     "output_type": "execute_result"
    }
   ],
   "source": [
    "orgs.columns"
   ]
  },
  {
   "cell_type": "markdown",
   "id": "29be4bd3",
   "metadata": {},
   "source": [
    "Список колонок с типами данных:"
   ]
  },
  {
   "cell_type": "code",
   "execution_count": 56,
   "id": "b4e82e33",
   "metadata": {},
   "outputs": [
    {
     "data": {
      "text/plain": [
       "org_id           object\n",
       "city             object\n",
       "average_bill    float64\n",
       "rating          float64\n",
       "rubrics_id       object\n",
       "features_id      object\n",
       "dtype: object"
      ]
     },
     "execution_count": 56,
     "metadata": {},
     "output_type": "execute_result"
    }
   ],
   "source": [
    "orgs.dtypes"
   ]
  },
  {
   "cell_type": "markdown",
   "id": "33445340",
   "metadata": {},
   "source": [
    "Общий вид данных таблицы рекомендаций:"
   ]
  },
  {
   "cell_type": "code",
   "execution_count": 57,
   "id": "6a473316",
   "metadata": {},
   "outputs": [
    {
     "data": {
      "text/html": [
       "<div>\n",
       "<style scoped>\n",
       "    .dataframe tbody tr th:only-of-type {\n",
       "        vertical-align: middle;\n",
       "    }\n",
       "\n",
       "    .dataframe tbody tr th {\n",
       "        vertical-align: top;\n",
       "    }\n",
       "\n",
       "    .dataframe thead th {\n",
       "        text-align: right;\n",
       "    }\n",
       "</style>\n",
       "<table border=\"1\" class=\"dataframe\">\n",
       "  <thead>\n",
       "    <tr style=\"text-align: right;\">\n",
       "      <th></th>\n",
       "      <th>user_id</th>\n",
       "      <th>org_id</th>\n",
       "      <th>rating</th>\n",
       "      <th>ts</th>\n",
       "      <th>aspects</th>\n",
       "    </tr>\n",
       "  </thead>\n",
       "  <tbody>\n",
       "    <tr>\n",
       "      <th>0</th>\n",
       "      <td>E5A7AF2BBA62183E969998FFE09A6304F4761BC7445EF8...</td>\n",
       "      <td>689F4C0B84691F6FC69368EDF6E426BEAC543C799F56F2...</td>\n",
       "      <td>5.0</td>\n",
       "      <td>618</td>\n",
       "      <td>NaN</td>\n",
       "    </tr>\n",
       "    <tr>\n",
       "      <th>1</th>\n",
       "      <td>26B8CB030A2B279E6804AC6EF20C27D7F7BE0C08129C78...</td>\n",
       "      <td>01074FAE0B11E5A1B74AC2D82CF0B66F2A766C84856B0D...</td>\n",
       "      <td>5.0</td>\n",
       "      <td>525</td>\n",
       "      <td>38 326 8</td>\n",
       "    </tr>\n",
       "    <tr>\n",
       "      <th>2</th>\n",
       "      <td>A563C39DB5FE7418D9A6DFE2B412B5D56D94354F57A249...</td>\n",
       "      <td>A9B175ABD408F9C22A1E5DBE40FA1E12A19AB0DB632555...</td>\n",
       "      <td>3.0</td>\n",
       "      <td>992</td>\n",
       "      <td>NaN</td>\n",
       "    </tr>\n",
       "    <tr>\n",
       "      <th>3</th>\n",
       "      <td>C3EBA3C3B06DF6D4660FA05F89E6FDC9064AEE854E0F42...</td>\n",
       "      <td>EB920597A31D5A076FE047DEA1B1B5270C2C69A2D4E1FB...</td>\n",
       "      <td>1.0</td>\n",
       "      <td>743</td>\n",
       "      <td>NaN</td>\n",
       "    </tr>\n",
       "    <tr>\n",
       "      <th>4</th>\n",
       "      <td>31F3248779160242FDF7382C945F296F236762E53930BB...</td>\n",
       "      <td>61CA13C754EE92C2CAEA47987DEC07889AFD53C52753D6...</td>\n",
       "      <td>4.0</td>\n",
       "      <td>629</td>\n",
       "      <td>NaN</td>\n",
       "    </tr>\n",
       "  </tbody>\n",
       "</table>\n",
       "</div>"
      ],
      "text/plain": [
       "                                             user_id  \\\n",
       "0  E5A7AF2BBA62183E969998FFE09A6304F4761BC7445EF8...   \n",
       "1  26B8CB030A2B279E6804AC6EF20C27D7F7BE0C08129C78...   \n",
       "2  A563C39DB5FE7418D9A6DFE2B412B5D56D94354F57A249...   \n",
       "3  C3EBA3C3B06DF6D4660FA05F89E6FDC9064AEE854E0F42...   \n",
       "4  31F3248779160242FDF7382C945F296F236762E53930BB...   \n",
       "\n",
       "                                              org_id  rating   ts   aspects  \n",
       "0  689F4C0B84691F6FC69368EDF6E426BEAC543C799F56F2...     5.0  618       NaN  \n",
       "1  01074FAE0B11E5A1B74AC2D82CF0B66F2A766C84856B0D...     5.0  525  38 326 8  \n",
       "2  A9B175ABD408F9C22A1E5DBE40FA1E12A19AB0DB632555...     3.0  992       NaN  \n",
       "3  EB920597A31D5A076FE047DEA1B1B5270C2C69A2D4E1FB...     1.0  743       NaN  \n",
       "4  61CA13C754EE92C2CAEA47987DEC07889AFD53C52753D6...     4.0  629       NaN  "
      ]
     },
     "execution_count": 57,
     "metadata": {},
     "output_type": "execute_result"
    }
   ],
   "source": [
    "reviews.head()"
   ]
  },
  {
   "cell_type": "markdown",
   "id": "925ceb47",
   "metadata": {},
   "source": [
    "Список колонок:"
   ]
  },
  {
   "cell_type": "code",
   "execution_count": 58,
   "id": "41bab6cc",
   "metadata": {},
   "outputs": [
    {
     "data": {
      "text/plain": [
       "Index(['user_id', 'org_id', 'rating', 'ts', 'aspects'], dtype='object')"
      ]
     },
     "execution_count": 58,
     "metadata": {},
     "output_type": "execute_result"
    }
   ],
   "source": [
    "reviews.columns"
   ]
  },
  {
   "cell_type": "markdown",
   "id": "568a7838",
   "metadata": {},
   "source": [
    "Список колонок с типами данных:"
   ]
  },
  {
   "cell_type": "code",
   "execution_count": 59,
   "id": "fe8a8a93",
   "metadata": {},
   "outputs": [
    {
     "data": {
      "text/plain": [
       "user_id     object\n",
       "org_id      object\n",
       "rating     float64\n",
       "ts           int64\n",
       "aspects     object\n",
       "dtype: object"
      ]
     },
     "execution_count": 59,
     "metadata": {},
     "output_type": "execute_result"
    }
   ],
   "source": [
    "reviews.dtypes"
   ]
  },
  {
   "cell_type": "markdown",
   "id": "c0779a31",
   "metadata": {},
   "source": [
    "Некоторые данные (такие как рубрики и признаки), представлены строками\n",
    "значений. Для удобства анализа преобразуем их в списки чисел. "
   ]
  },
  {
   "cell_type": "code",
   "execution_count": 60,
   "id": "05ff309d",
   "metadata": {},
   "outputs": [],
   "source": [
    "# Переводит строку вида '1 2 3 4' в список [1, 2, 3, 4].\n",
    "to_int_list = lambda values: [int(value) for value in str(values).split(' ')]\n",
    "\n",
    "def apply_to_columns(df: pd.DataFrame, columns: List[str], func=to_int_list):\n",
    "    \"\"\"\n",
    "    apply_to_columns(df: pd.DataFrame, columns: List[str], func=to_int_list)\n",
    "        Применяет функцию к заданным колонкам <columns> датасета <df>.\n",
    "    \"\"\"\n",
    "\n",
    "    for column in columns:\n",
    "        df.loc[~df[column].isnull(), column] = df.loc[\n",
    "            ~df[column].isnull(), column\n",
    "        ].apply(func)"
   ]
  },
  {
   "cell_type": "code",
   "execution_count": 61,
   "id": "18173f70",
   "metadata": {
    "scrolled": false
   },
   "outputs": [
    {
     "data": {
      "text/html": [
       "<div>\n",
       "<style scoped>\n",
       "    .dataframe tbody tr th:only-of-type {\n",
       "        vertical-align: middle;\n",
       "    }\n",
       "\n",
       "    .dataframe tbody tr th {\n",
       "        vertical-align: top;\n",
       "    }\n",
       "\n",
       "    .dataframe thead th {\n",
       "        text-align: right;\n",
       "    }\n",
       "</style>\n",
       "<table border=\"1\" class=\"dataframe\">\n",
       "  <thead>\n",
       "    <tr style=\"text-align: right;\">\n",
       "      <th></th>\n",
       "      <th>org_id</th>\n",
       "      <th>city</th>\n",
       "      <th>average_bill</th>\n",
       "      <th>rating</th>\n",
       "      <th>rubrics_id</th>\n",
       "      <th>features_id</th>\n",
       "    </tr>\n",
       "  </thead>\n",
       "  <tbody>\n",
       "    <tr>\n",
       "      <th>0</th>\n",
       "      <td>DB02713EAD474F7DCB4FAB65333D4D360C6337BFC3CA43...</td>\n",
       "      <td>msk</td>\n",
       "      <td>500.0</td>\n",
       "      <td>4.378378</td>\n",
       "      <td>[30771]</td>\n",
       "      <td>[1509, 10462, 11617, 273469383, 1082283206, 10...</td>\n",
       "    </tr>\n",
       "    <tr>\n",
       "      <th>1</th>\n",
       "      <td>31F077980B0BCC05B17B988E0017B538CE523A2ACB8FEA...</td>\n",
       "      <td>msk</td>\n",
       "      <td>500.0</td>\n",
       "      <td>4.166667</td>\n",
       "      <td>[30519]</td>\n",
       "      <td>[1524, 10462, 11177, 11629, 1018, 11704, 1415,...</td>\n",
       "    </tr>\n",
       "    <tr>\n",
       "      <th>2</th>\n",
       "      <td>B16CB024197B053E9C713A79812ED658CA4B2FB8F5293C...</td>\n",
       "      <td>msk</td>\n",
       "      <td>500.0</td>\n",
       "      <td>3.687500</td>\n",
       "      <td>[30776, 30771]</td>\n",
       "      <td>[1524, 11629, 1018, 11704, 10462, 12048, 1416,...</td>\n",
       "    </tr>\n",
       "    <tr>\n",
       "      <th>3</th>\n",
       "      <td>25308E05A46D9D40BDB6A6AC55CD422147D40B0B0D44B2...</td>\n",
       "      <td>msk</td>\n",
       "      <td>500.0</td>\n",
       "      <td>3.835417</td>\n",
       "      <td>[30771]</td>\n",
       "      <td>[10462, 3501744275, 3501513153, 20424, 3501618...</td>\n",
       "    </tr>\n",
       "    <tr>\n",
       "      <th>4</th>\n",
       "      <td>D9FB72E2B38AC2A03586074A0019ABA16F7EE761C08120...</td>\n",
       "      <td>msk</td>\n",
       "      <td>500.0</td>\n",
       "      <td>4.750000</td>\n",
       "      <td>[3501750896]</td>\n",
       "      <td>[20282, 20424, 273469383, 11617, 11629, 11177,...</td>\n",
       "    </tr>\n",
       "  </tbody>\n",
       "</table>\n",
       "</div>"
      ],
      "text/plain": [
       "                                              org_id city  average_bill  \\\n",
       "0  DB02713EAD474F7DCB4FAB65333D4D360C6337BFC3CA43...  msk         500.0   \n",
       "1  31F077980B0BCC05B17B988E0017B538CE523A2ACB8FEA...  msk         500.0   \n",
       "2  B16CB024197B053E9C713A79812ED658CA4B2FB8F5293C...  msk         500.0   \n",
       "3  25308E05A46D9D40BDB6A6AC55CD422147D40B0B0D44B2...  msk         500.0   \n",
       "4  D9FB72E2B38AC2A03586074A0019ABA16F7EE761C08120...  msk         500.0   \n",
       "\n",
       "     rating      rubrics_id                                        features_id  \n",
       "0  4.378378         [30771]  [1509, 10462, 11617, 273469383, 1082283206, 10...  \n",
       "1  4.166667         [30519]  [1524, 10462, 11177, 11629, 1018, 11704, 1415,...  \n",
       "2  3.687500  [30776, 30771]  [1524, 11629, 1018, 11704, 10462, 12048, 1416,...  \n",
       "3  3.835417         [30771]  [10462, 3501744275, 3501513153, 20424, 3501618...  \n",
       "4  4.750000    [3501750896]  [20282, 20424, 273469383, 11617, 11629, 11177,...  "
      ]
     },
     "execution_count": 61,
     "metadata": {},
     "output_type": "execute_result"
    }
   ],
   "source": [
    "# Переводим рубрики и признаки в удобный вид.\n",
    "columns = ['rubrics_id', 'features_id']\n",
    "apply_to_columns(orgs, columns)\n",
    "\n",
    "orgs.head()"
   ]
  },
  {
   "cell_type": "markdown",
   "id": "1fb5b4c1",
   "metadata": {},
   "source": [
    "Чтобы не делать __join__ каждый раз, когда нам потребуется узнать, из какого\n",
    "города организация или пользователь, сразу добавим эту информацию в отзывы."
   ]
  },
  {
   "cell_type": "code",
   "execution_count": 62,
   "id": "c28d7258",
   "metadata": {},
   "outputs": [
    {
     "data": {
      "text/html": [
       "<div>\n",
       "<style scoped>\n",
       "    .dataframe tbody tr th:only-of-type {\n",
       "        vertical-align: middle;\n",
       "    }\n",
       "\n",
       "    .dataframe tbody tr th {\n",
       "        vertical-align: top;\n",
       "    }\n",
       "\n",
       "    .dataframe thead th {\n",
       "        text-align: right;\n",
       "    }\n",
       "</style>\n",
       "<table border=\"1\" class=\"dataframe\">\n",
       "  <thead>\n",
       "    <tr style=\"text-align: right;\">\n",
       "      <th></th>\n",
       "      <th>user_id</th>\n",
       "      <th>org_id</th>\n",
       "      <th>rating</th>\n",
       "      <th>ts</th>\n",
       "      <th>aspects</th>\n",
       "      <th>user_city</th>\n",
       "      <th>org_city</th>\n",
       "    </tr>\n",
       "  </thead>\n",
       "  <tbody>\n",
       "    <tr>\n",
       "      <th>0</th>\n",
       "      <td>E5A7AF2BBA62183E969998FFE09A6304F4761BC7445EF8...</td>\n",
       "      <td>689F4C0B84691F6FC69368EDF6E426BEAC543C799F56F2...</td>\n",
       "      <td>5.0</td>\n",
       "      <td>618</td>\n",
       "      <td>NaN</td>\n",
       "      <td>msk</td>\n",
       "      <td>msk</td>\n",
       "    </tr>\n",
       "    <tr>\n",
       "      <th>1</th>\n",
       "      <td>9EE61FA268028BF20A1B320A880A39C8980D3744818773...</td>\n",
       "      <td>689F4C0B84691F6FC69368EDF6E426BEAC543C799F56F2...</td>\n",
       "      <td>5.0</td>\n",
       "      <td>817</td>\n",
       "      <td>NaN</td>\n",
       "      <td>msk</td>\n",
       "      <td>msk</td>\n",
       "    </tr>\n",
       "    <tr>\n",
       "      <th>2</th>\n",
       "      <td>CD2B195CD844F1288549EA7FC328AD45D8CAB75CA774D0...</td>\n",
       "      <td>689F4C0B84691F6FC69368EDF6E426BEAC543C799F56F2...</td>\n",
       "      <td>5.0</td>\n",
       "      <td>514</td>\n",
       "      <td>NaN</td>\n",
       "      <td>msk</td>\n",
       "      <td>msk</td>\n",
       "    </tr>\n",
       "    <tr>\n",
       "      <th>3</th>\n",
       "      <td>77355B0BE48A8AE2CD32D7344DB51B86ECD585CAC920CA...</td>\n",
       "      <td>689F4C0B84691F6FC69368EDF6E426BEAC543C799F56F2...</td>\n",
       "      <td>3.0</td>\n",
       "      <td>1080</td>\n",
       "      <td>NaN</td>\n",
       "      <td>msk</td>\n",
       "      <td>msk</td>\n",
       "    </tr>\n",
       "    <tr>\n",
       "      <th>4</th>\n",
       "      <td>FE35FCFAA71FFA5B3E8E8A91B7A8676D5AC89A474DC9DA...</td>\n",
       "      <td>689F4C0B84691F6FC69368EDF6E426BEAC543C799F56F2...</td>\n",
       "      <td>5.0</td>\n",
       "      <td>776</td>\n",
       "      <td>NaN</td>\n",
       "      <td>msk</td>\n",
       "      <td>msk</td>\n",
       "    </tr>\n",
       "  </tbody>\n",
       "</table>\n",
       "</div>"
      ],
      "text/plain": [
       "                                             user_id  \\\n",
       "0  E5A7AF2BBA62183E969998FFE09A6304F4761BC7445EF8...   \n",
       "1  9EE61FA268028BF20A1B320A880A39C8980D3744818773...   \n",
       "2  CD2B195CD844F1288549EA7FC328AD45D8CAB75CA774D0...   \n",
       "3  77355B0BE48A8AE2CD32D7344DB51B86ECD585CAC920CA...   \n",
       "4  FE35FCFAA71FFA5B3E8E8A91B7A8676D5AC89A474DC9DA...   \n",
       "\n",
       "                                              org_id  rating    ts aspects  \\\n",
       "0  689F4C0B84691F6FC69368EDF6E426BEAC543C799F56F2...     5.0   618     NaN   \n",
       "1  689F4C0B84691F6FC69368EDF6E426BEAC543C799F56F2...     5.0   817     NaN   \n",
       "2  689F4C0B84691F6FC69368EDF6E426BEAC543C799F56F2...     5.0   514     NaN   \n",
       "3  689F4C0B84691F6FC69368EDF6E426BEAC543C799F56F2...     3.0  1080     NaN   \n",
       "4  689F4C0B84691F6FC69368EDF6E426BEAC543C799F56F2...     5.0   776     NaN   \n",
       "\n",
       "  user_city org_city  \n",
       "0       msk      msk  \n",
       "1       msk      msk  \n",
       "2       msk      msk  \n",
       "3       msk      msk  \n",
       "4       msk      msk  "
      ]
     },
     "execution_count": 62,
     "metadata": {},
     "output_type": "execute_result"
    }
   ],
   "source": [
    "# Join по user_id.\n",
    "reviews = reviews.merge(users, on='user_id')\n",
    "reviews = reviews.rename({'city': 'user_city'}, axis=1)\n",
    "\n",
    "# Join по org_id.\n",
    "reviews = reviews.merge(orgs[['org_id', 'city']], on='org_id')\n",
    "reviews = reviews.rename({'city': 'org_city'}, axis=1)\n",
    "\n",
    "# В колонке aspects тоже находятся записи вида '1 2 3', приведём их к числовому\n",
    "#   списку.\n",
    "columns = ['aspects']\n",
    "apply_to_columns(reviews, columns)\n",
    "\n",
    "reviews.head()"
   ]
  },
  {
   "cell_type": "markdown",
   "id": "0eab4d81",
   "metadata": {},
   "source": [
    "Отлично, теперь с отзывами будет удобно работать. "
   ]
  },
  {
   "cell_type": "markdown",
   "id": "7444cb6d",
   "metadata": {},
   "source": [
    "# # Построение графиков для понимания структуры данных\n",
    "Посмотрим на распределение новых отзывов по дням, чтобы понять, как лучше организовать валидацию. "
   ]
  },
  {
   "cell_type": "code",
   "execution_count": 63,
   "id": "4077bba3",
   "metadata": {},
   "outputs": [
    {
     "data": {
      "image/png": "[encoded data removed]",
      "text/plain": [
       "<Figure size 576x576 with 1 Axes>"
      ]
     },
     "metadata": {
      "needs_background": "light"
     },
     "output_type": "display_data"
    }
   ],
   "source": [
    "sns.displot(data=reviews, x='ts', height=8)\n",
    "plt.title('Распределение отзывов по дням')\n",
    "plt.show()"
   ]
  },
  {
   "cell_type": "markdown",
   "id": "5a4cdd25",
   "metadata": {},
   "source": [
    "Всего в выборку попали отызывы за **1216** дней. "
   ]
  },
  {
   "cell_type": "code",
   "execution_count": 64,
   "id": "8ef1efd3",
   "metadata": {},
   "outputs": [
    {
     "data": {
      "text/plain": [
       "1216"
      ]
     },
     "execution_count": 64,
     "metadata": {},
     "output_type": "execute_result"
    }
   ],
   "source": [
    "reviews['ts'].max()"
   ]
  },
  {
   "cell_type": "markdown",
   "id": "fc3246df",
   "metadata": {},
   "source": [
    "# Выделение обучающей и тестовой выборки\n",
    "В качестве обучающей выборки можно взять некоторый процент от всех данных,\n",
    "однако намного эффективнее и более приближено к реальности разделение по\n",
    "времени [1, стр. 232]."
   ]
  },
  {
   "cell_type": "markdown",
   "id": "426907b4",
   "metadata": {},
   "source": [
    "Отложим в тестовую выборку отзывы за последние **100** дней."
   ]
  },
  {
   "cell_type": "code",
   "execution_count": 65,
   "id": "eaa8bcdb",
   "metadata": {},
   "outputs": [],
   "source": [
    "def clear_df(df, suffixes=['_x', '_y'], inplace=True):\n",
    "    '''\n",
    "    clear_df(df, suffixes=['_x', '_y'], inplace=True)\n",
    "        Удаляет из входного df все колонки, оканчивающиеся на заданные суффиксы. \n",
    "        \n",
    "        Parameters\n",
    "        ----------\n",
    "        df : pandas.DataFrame\n",
    "        \n",
    "        suffixies : Iterable, default=['_x', '_y']\n",
    "            Суффиксы колонок, подлежащих удалению\n",
    "            \n",
    "        inplace : bool, default=True\n",
    "            Нужно ли удалить колонки \"на месте\" или же создать копию DataFrame.\n",
    "            \n",
    "        Returns\n",
    "        -------\n",
    "        pandas.DataFrame (optional)\n",
    "            df с удалёнными колонками\n",
    "    '''\n",
    "    \n",
    "    def bad_suffix(column):\n",
    "        nonlocal suffixes\n",
    "        return any(column.endswith(suffix) for suffix in suffixes)\n",
    "        \n",
    "    columns_to_drop = [col for col in df.columns if bad_suffix(col)]\n",
    "    return df.drop(columns_to_drop, axis=1, inplace=inplace)\n",
    "\n",
    "\n",
    "def extract_unique(reviews, column): \n",
    "    '''\n",
    "    extract_unique(reviews, column)\n",
    "        Извлекает уникальные значения из колонки в DataFrame.\n",
    "        \n",
    "        Parameters\n",
    "        ----------\n",
    "        reviews : pandas.DataFrame\n",
    "            pandas.DataFrame, из которого будут извлечены значения.\n",
    "        \n",
    "        column : str\n",
    "            Имя колонки в <reviews>.\n",
    "        \n",
    "        Returns\n",
    "        -------\n",
    "        pandas.DataFrame\n",
    "            Содержит одну именованную колонку с уникальными значениями. \n",
    "    '''\n",
    "    \n",
    "    unique = reviews[column].unique()\n",
    "    return pd.DataFrame({column: unique})\n",
    "\n",
    "\n",
    "def count_unique(reviews, column):\n",
    "    '''\n",
    "    count_unique(reviews, column)\n",
    "        Извлекает и подсчитывает уникальные значения из колонки в DataFrame.\n",
    "        \n",
    "        Parameters\n",
    "        ----------\n",
    "        reviews : pandas.DataFrame\n",
    "            pandas.DataFrame, из которого будут извлечены значения.\n",
    "        \n",
    "        column : str\n",
    "            Имя колонки в <reviews>.\n",
    "        \n",
    "        Returns\n",
    "        -------\n",
    "        pandas.DataFrame\n",
    "            Содержит две колонки: с уникальными значениями и счётчиком встреченных. \n",
    "    '''\n",
    "    \n",
    "    return reviews[column].value_counts().reset_index(name='count').rename({'index': column}, axis=1)\n",
    "\n",
    "\n",
    "\n",
    "def filter_reviews(reviews, users=None, orgs=None): \n",
    "    '''\n",
    "    filter_reviews(reviews, users=None, orgs=None)\n",
    "    Оставляет в выборке только отзывы, оставленные заданными пользователями на заданные организации. \n",
    "    \n",
    "    Parameters\n",
    "    ----------\n",
    "        users: pandas.DataFrame, default=None\n",
    "            DataFrame, содержащий колонку <user_id>.\n",
    "            Если None, то фильтрация не происходит. \n",
    "            \n",
    "        orgs: pandas.DataFrame, default=None\n",
    "            DataFrame, содержащий колонку <org_id>.\n",
    "            Если None, то фильтрация не происходит. \n",
    "    \n",
    "    Returns\n",
    "    -------\n",
    "        pandas.DataFrame\n",
    "            Отфильтрованная выборка отзывов. \n",
    "\n",
    "    '''\n",
    "    if users is not None: \n",
    "        reviews = reviews.merge(users, on='user_id', how='inner')\n",
    "        clear_df(reviews)\n",
    "        \n",
    "    if orgs is not None:\n",
    "        reviews = reviews.merge(orgs, on='org_id', how='inner')\n",
    "        clear_df(reviews)\n",
    "        \n",
    "    return reviews\n",
    "\n",
    "\n",
    "def train_test_split(reviews, ts_start, ts_end=None):\n",
    "    '''\n",
    "    train_test_split(reviews, ts_start, ts_end=None)\n",
    "        Разделяет выборку отзывов на две части: обучающую и тестовую. \n",
    "        В тестовую выборку попадают только отзывы с user_id и org_id, встречающимися в обучающей выборке.\n",
    "\n",
    "        Parameters\n",
    "        ----------\n",
    "        reviews : pandas.DataFrame \n",
    "            Отзывы из reviews.csv с обязательными полями:\n",
    "                <rating>, <ts>, <user_id>, <user_city>, <org_id>, <org_city>.\n",
    "\n",
    "        ts_start : int\n",
    "            Первый день отзывов из тестовой выборки (включительно).\n",
    "\n",
    "        ts_end : int, default=None\n",
    "            Последний день отзывов из обучающей выборки (включительно)\n",
    "            Если параметр равен None, то ts_end == reviews['ts'].max(). \n",
    "\n",
    "        Returns\n",
    "        -------\n",
    "        splitting : tuple\n",
    "            Кортеж из двух pandas.DataFrame такой же структуры, как и reviews:\n",
    "            в первом отзывы, попавшие в обучающую выборку, во втором - в тестовую.\n",
    "    '''\n",
    "    \n",
    "    if not ts_end:\n",
    "        ts_end = reviews['ts'].max()\n",
    "    \n",
    "    \n",
    "    reviews_train = reviews[(reviews['ts'] < ts_start) | (reviews['ts'] > ts_end)]\n",
    "    reviews_test = reviews[(ts_start <= reviews['ts']) & (reviews['ts'] <= ts_end)]\n",
    "    \n",
    "    # 1. Выбираем только отзывы на понравившиеся места у путешественников.\n",
    "    reviews_test = reviews_test[reviews_test['rating'] >= 4.0]\n",
    "    user_and_org_from_different_cities = reviews_test['org_city'] != reviews_test['user_city']\n",
    "    reviews_test = reviews_test[user_and_org_from_different_cities]\n",
    "    \n",
    "    # 2. Оставляем в тесте только тех пользователей и организации, которые\n",
    "    #   встречались в трейне.\n",
    "    train_orgs = extract_unique(reviews_train, 'org_id')\n",
    "    train_users = extract_unique(reviews_train, 'user_id')\n",
    "    \n",
    "    reviews_test = filter_reviews(reviews_test, orgs=train_orgs)\n",
    "\n",
    "    return reviews_train, reviews_test\n",
    "\n",
    "\n",
    "def process_reviews(reviews):\n",
    "    '''\n",
    "    process_reviews(reviews)\n",
    "        Извлекает из набора отзывов тестовых пользователей и таргет. \n",
    "        \n",
    "        Parameters\n",
    "        ----------\n",
    "        reviews : pandas.DataFrame\n",
    "            DataFrame с отзывами, содержащий колонки <user_id> и <org_id>\n",
    "        \n",
    "        Returns\n",
    "        -------\n",
    "        X : pandas.DataFrame\n",
    "            DataFrame такой же структуры, как и в test_users.csv\n",
    "            \n",
    "        y : pandas.DataFrame\n",
    "            DataFrame с колонками <user_id> и <target>. \n",
    "            В <target> содержится список org_id, посещённых пользователем. \n",
    "    '''\n",
    "    \n",
    "    y = reviews.groupby('user_id')['org_id'].apply(list).reset_index(name='target')\n",
    "    X = pd.DataFrame(y['user_id'])\n",
    "    \n",
    "    return X, y"
   ]
  },
  {
   "cell_type": "code",
   "execution_count": 66,
   "id": "71211d90",
   "metadata": {},
   "outputs": [],
   "source": [
    "train_reviews, test_reviews = train_test_split(reviews, 1116)\n",
    "X_test, y_test = process_reviews(test_reviews)"
   ]
  },
  {
   "cell_type": "markdown",
   "id": "2d5ce241",
   "metadata": {},
   "source": [
    "Посмотрим, сколько всего уникальных пользователей попало в эту тестовую выборку:"
   ]
  },
  {
   "cell_type": "code",
   "execution_count": 67,
   "id": "9234a131",
   "metadata": {},
   "outputs": [
    {
     "data": {
      "text/plain": [
       "11978"
      ]
     },
     "execution_count": 67,
     "metadata": {},
     "output_type": "execute_result"
    }
   ],
   "source": [
    "len(X_test)"
   ]
  },
  {
   "cell_type": "markdown",
   "id": "6aa4c71a",
   "metadata": {},
   "source": [
    "# Выбор метрики\n",
    "Для последующей оценки качества следует выбрать метрику."
   ]
  },
  {
   "cell_type": "markdown",
   "id": "eff1c684",
   "metadata": {},
   "source": [
    "Метрика **Precision**:\n",
    "\n",
    "Доля верно предсказанных классификатором положительных объектов, из всех\n",
    "объектов, которые классификатор верно или неверно определил как\n",
    "положительные.\n",
    "Принимает на вход два DataFrame, имеющих такую же структуру, как и **y_test**.\n",
    "В контексте рекомендательных систем формула выглядит\n",
    "следующим образом: \n",
    "$$\n",
    "\\begin{align*}\n",
    "  \\qquad P = \\frac{\\textrm{Количество релевантных рекомендаций}}{\\textrm{Количество рекомендаций}}\n",
    "\\end{align*}\n",
    "$$\n",
    "К сожалению, данная метрика не учитывает порядок рекомендаций. Нам же хочется\n",
    "предлагать пользователю в первую очередь те места, в которых мы наиболее\n",
    "уверены. Для этого лучше предназначены следующие метрики [2]:\n",
    "\n",
    "**Average Precision**:\n",
    "\n",
    "$$\n",
    "\\begin{align*}\n",
    "  \\textrm{AP@N} = \\frac{1}{m}\\sum_{k=1}^N \\textrm{($P(k)$ если $k_{ая}$ рекомендация была релевантна)} = \\frac{1}{m}\\sum_{k=1}^N P(k)\\cdot rel(k),\n",
    "\\end{align*}\n",
    "$$\n",
    "где m - количество рекомендаций, N - количество рекомендаций, которые мы\n",
    "берём в расчёт $ N \\leq m $.\n",
    "\n",
    "В конечном итоге, нас интересует **Mean Average Precision**  - среднее Average\n",
    "Precision по пользователям:\n",
    "$$\n",
    "\\begin{align*}\n",
    "  \\textrm{MAP@N} = \\frac{1}{|U|}\\sum_{u=1}^|U|(\\textrm{AP@N})_u = \\frac{1}{|U|} \\sum_{u=1}^|U| \\frac{1}{m}\\sum_{k=1}^N P_u(k)\\cdot rel_u(k).\n",
    "\\end{align*}\n",
    "$$"
   ]
  },
  {
   "cell_type": "code",
   "execution_count": 68,
   "id": "37c81286",
   "metadata": {},
   "outputs": [],
   "source": [
    "def mean_average_precision_at_n(size=20):\n",
    "    '''\n",
    "    mean_average_precision_at_n(size=20)\n",
    "        Создаёт метрику под <size> сделанных предсказаний.\n",
    "        \n",
    "        Parameters\n",
    "        ----------\n",
    "        size : int, default=20\n",
    "            Размер рекомендованной выборки для каждого пользователя\n",
    "        \n",
    "        Returns\n",
    "        -------\n",
    "        func(pd.DataFrame, pd.DataFrame) -> float\n",
    "            Функция, вычисляющая mean_average_precision_at_n.\n",
    "        \n",
    "    '''\n",
    "    \n",
    "    assert size >= 1, \"Size must be greater than zero!\"\n",
    "    \n",
    "    def metric(y_true, predictions, size=size):\n",
    "        '''\n",
    "        metric(y_true, predictions, size=size)\n",
    "            Метрика mean_average_precision_at_n для двух перемешанных наборов <y_true> и <y_pred>.\n",
    "            \n",
    "            Parameters\n",
    "            ----------\n",
    "            y_true : pd.DataFrame\n",
    "                DataFrame с колонками <user_id> и <target>. \n",
    "                В <target> содержится список настоящих org_id, посещённых пользователем. \n",
    "                \n",
    "            predictions : pd.DataFrame\n",
    "                DataFrame с колонками <user_id> и <target>. \n",
    "                В <target> содержится список рекомендованных для пользователя org_id.\n",
    "                \n",
    "            Returns\n",
    "            -------\n",
    "            float \n",
    "                Значение метрики.\n",
    "        '''\n",
    "        \n",
    "        y_true = y_true.rename({'target': 'y_true'}, axis='columns')\n",
    "        predictions = predictions.rename({'target': 'predictions'}, axis='columns')\n",
    "        \n",
    "        merged = y_true.merge(predictions, left_on='user_id', right_on='user_id')\n",
    "    \n",
    "        def average_precision_for_user(x: pd.DataFrame, size=size) -> float:\n",
    "            '''\n",
    "            average_precision_for_user(x: pd.DataFrame, size=size) -> float\n",
    "            Средняя точность для пользователя.\n",
    "\n",
    "            Parameters\n",
    "            ----------\n",
    "            x : pd.DataFrame\n",
    "                DataFrame с колонками <user_id>, <y_true>, <predictions>.\n",
    "\n",
    "            Returns\n",
    "            -------\n",
    "            float\n",
    "                Значение от 0 до 1 - средняя точность для пользователя.\n",
    "            '''\n",
    "            y_true = x[1][1]\n",
    "            predictions = x[1][2]\n",
    "            \n",
    "            weight = 0\n",
    "            \n",
    "            inner_weights = [0]\n",
    "            for n, item in enumerate(predictions):\n",
    "                inner_weight = inner_weights[-1] + (1 if item in y_true else 0)\n",
    "                inner_weights.append(inner_weight)\n",
    "            \n",
    "            for n, item in enumerate(predictions):                \n",
    "                if item in y_true:\n",
    "                    weight += inner_weights[n + 1] / (n + 1)\n",
    "                    \n",
    "            return weight / min(len(y_true), size)\n",
    "\n",
    "        return np.mean([average_precision_for_user(user_row) for user_row in merged.iterrows()])\n",
    "    \n",
    "        \n",
    "    return metric\n",
    "\n",
    "\n",
    "def print_score(score):\n",
    "    print(f\"Score: {score:.6f}\")\n",
    "    \n",
    "    \n",
    "N = 20\n",
    "mapN = mean_average_precision_at_n(N)"
   ]
  },
  {
   "cell_type": "markdown",
   "id": "cc16dd31",
   "metadata": {},
   "source": [
    "# Подбор рекомендаций\n",
    "Выделяют несколько типов таких систем, которые можно разделить по подходу к рекомендациям [1]:\n",
    "1. Content-based\n",
    "Пользователю рекомендуются объекты, похожие на те, которые этот пользователь уже использовал или просматривал ранее.\n",
    "Степень схожести объектов оценивается по их характеристикам.\n",
    "\n",
    "2. Коллаборативная фильтрация (Collaborative Filtering)\n",
    "Пользователю рекомендуются объекты, подобранные в соответствии с оценками, поставленными ранее.\n",
    "Для рекомендации используется история оценок как самого пользователя, так и других пользователей.\n",
    "Данный подход основан на оценках, которые поставили пользователи. Он считается наиболее простым в реализации и чаще всего используется в недорогих рекомендательных системах.\n",
    "Для рекомендации пользователю достопримечательности предсказываются оценки,\n",
    "которые он может поставить, и выбираются места с наилучшими оценками.\n",
    "Существует два способа реализации коллаборативной фильтрации [1]:\n",
    "- User-based: здесь определяются пользователи, наиболее похожие по оценкам на того, которому составляется рекомендация, и в соответствии с их оценками предсказываются оценки текущего пользователя.\n",
    "- Item-based: этот способ похож на User-based. Разница же заключается в том, что здесь\n",
    "определяются места, наиболее похожие по оценкам на место, оценку которого мы\n",
    "хотим предсказать. В соответствии с оценками этих мест предсказывается оценка\n",
    "на данную достопримечательность.\n",
    "Разрабатываемые системы, основанные User-based и Item-based коллаборативной\n",
    "фильтрации, будут рекомендовать пользователям места, которым пользователи поставили бы наивысшую оценку.\n",
    "\n",
    "3. Гибридные системы\n",
    "Этот подход представляет собой совокупность двух предыдущих."
   ]
  },
  {
   "cell_type": "markdown",
   "id": "edd1a38b",
   "metadata": {},
   "source": [
    "Результаты будем записывать в словарь:"
   ]
  },
  {
   "cell_type": "code",
   "execution_count": 69,
   "id": "8099bce1",
   "metadata": {},
   "outputs": [],
   "source": [
    "results = {}"
   ]
  },
  {
   "cell_type": "markdown",
   "id": "43411422",
   "metadata": {},
   "source": [
    "# Подходы без машинного обучения"
   ]
  },
  {
   "cell_type": "markdown",
   "id": "9668cba5",
   "metadata": {},
   "source": [
    "## Случайные N мест"
   ]
  },
  {
   "cell_type": "markdown",
   "id": "d42c7edd",
   "metadata": {},
   "source": [
    "Попробуем предлагать пользователям случайные места из другого города. "
   ]
  },
  {
   "cell_type": "code",
   "execution_count": 70,
   "id": "c02d232c",
   "metadata": {},
   "outputs": [],
   "source": [
    "spb_orgs = orgs[orgs['city'] == 'spb']['org_id']\n",
    "msk_orgs = orgs[orgs['city'] == 'msk']['org_id']\n",
    "\n",
    "test_users_with_locations = X_test.merge(users, on='user_id')"
   ]
  },
  {
   "cell_type": "code",
   "execution_count": 71,
   "id": "3834744b",
   "metadata": {
    "scrolled": true
   },
   "outputs": [
    {
     "name": "stdout",
     "output_type": "stream",
     "text": [
      "Score: 0.000035\n",
      "CPU times: user 1.66 s, sys: 0 ns, total: 1.66 s\n",
      "Wall time: 1.65 s\n"
     ]
    }
   ],
   "source": [
    "%%time\n",
    "\n",
    "np.random.seed(1337)\n",
    "choose = lambda x: np.random.choice(spb_orgs, N) if x['user_id'] == 'msk' else np.random.choice(msk_orgs, N)\n",
    "target = test_users_with_locations.apply(choose, axis=1)\n",
    "\n",
    "predictions = X_test.copy()\n",
    "predictions['target'] = target\n",
    "\n",
    "mapN_random_result = mapN(y_test, predictions)\n",
    "results['random'] = mapN_random_result\n",
    "print_score(mapN_random_result)"
   ]
  },
  {
   "cell_type": "markdown",
   "id": "d6199951",
   "metadata": {},
   "source": [
    "## N самых популярных мест"
   ]
  },
  {
   "cell_type": "markdown",
   "id": "7fc0eb4d",
   "metadata": {},
   "source": [
    "Предыдущий подход, очевидно, не очень удачно предсказывает, какие места посетит пользователей. \n",
    "\n",
    "Попробуем улучшить стратегию: будем предлагать пользователям самые популярные места, то есть те, на которые оставлено больше всего отзывов. "
   ]
  },
  {
   "cell_type": "code",
   "execution_count": 72,
   "id": "2e42340a",
   "metadata": {},
   "outputs": [],
   "source": [
    "msk_orgs = train_reviews[(train_reviews['rating'] >= 4) & (train_reviews['org_city'] == 'msk')]['org_id']\n",
    "msk_orgs = msk_orgs.value_counts().index[:N].to_list()\n",
    "\n",
    "spb_orgs = train_reviews[(train_reviews['rating'] >= 4) & (train_reviews['org_city'] == 'spb')]['org_id']\n",
    "spb_orgs = spb_orgs.value_counts().index[:N].to_list()"
   ]
  },
  {
   "cell_type": "code",
   "execution_count": 73,
   "id": "0962d3a2",
   "metadata": {},
   "outputs": [
    {
     "name": "stdout",
     "output_type": "stream",
     "text": [
      "Score: 0.004885\n",
      "CPU times: user 879 ms, sys: 18.9 ms, total: 898 ms\n",
      "Wall time: 884 ms\n"
     ]
    }
   ],
   "source": [
    "%%time\n",
    "\n",
    "choose = lambda x: spb_orgs if x['user_id'] == 'msk' else msk_orgs\n",
    "target = test_users_with_locations.apply(choose, axis=1)\n",
    "\n",
    "predictions = X_test.copy()\n",
    "predictions['target'] = target\n",
    "\n",
    "mapN_popularity_result = mapN(y_test, predictions)\n",
    "results['popularity'] = mapN_popularity_result\n",
    "print_score(mapN_popularity_result)"
   ]
  },
  {
   "cell_type": "markdown",
   "id": "da8c29a8",
   "metadata": {},
   "source": [
    "Отлично, метрика немного улучшилась. Но стоит попробовать доработать эту тактику. "
   ]
  },
  {
   "cell_type": "markdown",
   "id": "daa30699",
   "metadata": {},
   "source": [
    "## N самых популярных мест среди туристов"
   ]
  },
  {
   "cell_type": "code",
   "execution_count": 74,
   "id": "5fbf5e86",
   "metadata": {},
   "outputs": [],
   "source": [
    "tourist_reviews = train_reviews[train_reviews['rating'] >= 4.0]\n",
    "\n",
    "# набор отзывов только от туристов\n",
    "tourist_reviews = tourist_reviews[tourist_reviews['user_city'] != tourist_reviews['org_city']]\n",
    "\n",
    "# выбираем самые популярные места среди туристов из Москвы и Питера\n",
    "msk_orgs = tourist_reviews[tourist_reviews['org_city'] == 'msk']['org_id']\n",
    "msk_orgs = msk_orgs.value_counts().index[:N].to_list()\n",
    "\n",
    "spb_orgs = tourist_reviews[tourist_reviews['org_city'] == 'spb']['org_id']\n",
    "spb_orgs = spb_orgs.value_counts().index[:N].to_list()"
   ]
  },
  {
   "cell_type": "code",
   "execution_count": 75,
   "id": "7ef317e4",
   "metadata": {},
   "outputs": [
    {
     "name": "stdout",
     "output_type": "stream",
     "text": [
      "Score: 0.008885\n",
      "CPU times: user 818 ms, sys: 16.8 ms, total: 835 ms\n",
      "Wall time: 830 ms\n"
     ]
    }
   ],
   "source": [
    "%%time\n",
    "\n",
    "choose = lambda x: spb_orgs if x['user_id'] == 'msk' else msk_orgs\n",
    "target = test_users_with_locations.apply(choose, axis=1)\n",
    "\n",
    "predictions = X_test.copy()\n",
    "predictions['target'] = target\n",
    "\n",
    "mapN_tourist_popularity_result = mapN(y_test, predictions)\n",
    "results['tourist_popularity'] = mapN_tourist_popularity_result\n",
    "print_score(mapN_tourist_popularity_result)"
   ]
  },
  {
   "cell_type": "markdown",
   "id": "7d960378",
   "metadata": {},
   "source": [
    "Метрика улучшилась ещё немного."
   ]
  },
  {
   "cell_type": "markdown",
   "id": "9dcbf38a",
   "metadata": {},
   "source": [
    "## N / rubrics_count самых популярных мест из каждой рубрики"
   ]
  },
  {
   "cell_type": "code",
   "execution_count": 76,
   "id": "4463cfcf",
   "metadata": {},
   "outputs": [
    {
     "name": "stdout",
     "output_type": "stream",
     "text": [
      "                      rubric_id  0\n",
      "0                      Ресторан  7\n",
      "1                          Кафе  6\n",
      "2                          Бар\\  2\n",
      "3               Быстрое питание  2\n",
      "4                       Кофейня  1\n",
      "5                     Булочная\\  0\n",
      "6                      Пиццерия  0\n",
      "7                      Столовая  0\n",
      "8                      Спортбар  0\n",
      "9                  Кондитерская  0\n",
      "10                     Суши-бар  0\n",
      "11                   Кальян-бар  0\n",
      "12  Бар безалкогольных напитков  0\n",
      "13                      Фудкорт  0\n",
      "14                 Кофе с собой  0\n",
      "                      rubric_id  0\n",
      "0                      Ресторан  9\n",
      "1                          Кафе  5\n",
      "2                          Бар\\  2\n",
      "3                     Булочная\\  1\n",
      "4               Быстрое питание  1\n",
      "5                  Кондитерская  1\n",
      "6                       Кофейня  1\n",
      "7                      Пиццерия  0\n",
      "8                      Столовая  0\n",
      "9                      Спортбар  0\n",
      "10                     Суши-бар  0\n",
      "11                   Кальян-бар  0\n",
      "12  Бар безалкогольных напитков  0\n",
      "13                 Кофе с собой  0\n"
     ]
    }
   ],
   "source": [
    "def extract_top_by_rubrics(reviews, N):\n",
    "    '''\n",
    "    extract_top_by_rubrics(reviews, N)\n",
    "        Набирает самые популярные организации по рубрикам, сохраняя распределение.\n",
    "        \n",
    "        Parameters\n",
    "        ----------\n",
    "        reviews : pd.DataFrame\n",
    "            Отзывы пользователей для рекомендации.\n",
    "            \n",
    "        N : int\n",
    "            Число рекомендаций.\n",
    "        \n",
    "        Returns\n",
    "        -------\n",
    "        orgs_list : list\n",
    "            Список отобранных организаций.\n",
    "    '''\n",
    "    \n",
    "    # Извлечение популярных рубрик.\n",
    "    reviews = reviews.merge(orgs, on='org_id')[['org_id', 'rubrics_id']]\n",
    "    \n",
    "    rubrics = reviews.explode('rubrics_id').groupby('rubrics_id').size()\n",
    "    rubrics = (rubrics / rubrics.sum() * N).apply(round).sort_values(ascending=False)\n",
    "\n",
    "    # Вывод списка рубрик по убыванию популярности.\n",
    "    print(\n",
    "        pd.read_csv('data/rubrics.csv', sep=',')\n",
    "        .merge(rubrics.reset_index(), left_index=True, right_on='rubrics_id')\n",
    "        .sort_values(by=0, ascending=False)[['rubric_id', 0]]\n",
    "    )\n",
    "    \n",
    "    # Извлечение популярных организаций.\n",
    "    train_orgs = reviews.groupby('org_id').size().reset_index(name='count').merge(orgs, on='org_id')\n",
    "    train_orgs = train_orgs[['org_id', 'count', 'rubrics_id']]\n",
    "\n",
    "    most_popular_rubric = lambda rubrics_id: max(rubrics_id, key=lambda rubric_id: rubrics[rubric_id])\n",
    "    train_orgs['rubrics_id'] = train_orgs['rubrics_id'].apply(most_popular_rubric)\n",
    "    \n",
    "    orgs_by_rubrics = train_orgs.sort_values(by='count', ascending=False).groupby('rubrics_id')['org_id'].apply(list)\n",
    "    \n",
    "    # Соберём самые популярные организации в рубриках в один список.\n",
    "    \n",
    "    orgs_list = []\n",
    "\n",
    "    for rubric_id, count in zip(rubrics.index, rubrics):\n",
    "        if rubric_id not in orgs_by_rubrics:\n",
    "            continue \n",
    "\n",
    "        orgs_list.extend(orgs_by_rubrics[rubric_id][:count])\n",
    "    \n",
    "    return orgs_list\n",
    "\n",
    "\n",
    "msk_orgs = extract_top_by_rubrics(tourist_reviews[tourist_reviews['org_city'] == 'msk'], N)\n",
    "spb_orgs = extract_top_by_rubrics(tourist_reviews[tourist_reviews['org_city'] == 'spb'], N)"
   ]
  },
  {
   "cell_type": "code",
   "execution_count": 77,
   "id": "5b601803",
   "metadata": {},
   "outputs": [
    {
     "name": "stdout",
     "output_type": "stream",
     "text": [
      "Score: 0.009543\n",
      "CPU times: user 884 ms, sys: 0 ns, total: 884 ms\n",
      "Wall time: 882 ms\n"
     ]
    }
   ],
   "source": [
    "%%time\n",
    "\n",
    "choose = lambda x: spb_orgs if x['user_id'] == 'msk' else msk_orgs\n",
    "target = test_users_with_locations.apply(choose, axis=1)\n",
    "\n",
    "predictions = X_test.copy()\n",
    "predictions['target'] = target\n",
    "\n",
    "mapN_popular_rubrics_result = mapN(y_test, predictions)\n",
    "results['popular_rubrics'] = mapN_popular_rubrics_result\n",
    "print_score(mapN_popular_rubrics_result)"
   ]
  },
  {
   "cell_type": "markdown",
   "id": "21cd4dfe",
   "metadata": {},
   "source": [
    "# ML методы."
   ]
  },
  {
   "cell_type": "markdown",
   "id": "0a635430",
   "metadata": {},
   "source": [
    "# Memory-based. Alternating Least Squares.\n",
    "Для этой группы методов требуется явное построение матрицы __пользователь-организация__ (__interaction matrix__), где на пересечении $i$-ой строки и $j$-ого столбца будет рейтинг, который $i$-ый пользователь выставил $j$-ой организации или же пропуск, если рейтинг не был установлен. \n",
    "\n",
    "Метод ALS является более продвинутым по сравнению с другими методами.\n",
    "Он также использует факторизацию матриц, однако существует возможность\n",
    "параллельного исполнения алгоритма. По этой причине этот метод зачастую\n",
    "используют в индустрии для генерации рекомендаций, например, Netflix за\n",
    "улучшение своего алгоритма коллаборативной фильтрации давали 1.000.000 $ -\n",
    "именно алгоритм, основанный на ALS помог авторам достичь необходимых\n",
    "результатов в предсказании со значением метрики в 0.1006 (RMSE) [3]."
   ]
  },
  {
   "cell_type": "markdown",
   "id": "3fd758a8",
   "metadata": {},
   "source": [
    "# Сравнение результатов"
   ]
  },
  {
   "cell_type": "code",
   "execution_count": 79,
   "id": "0c67c049",
   "metadata": {
    "scrolled": false
   },
   "outputs": [
    {
     "data": {
      "text/plain": [
       "Text(0, 0.5, 'Значение метрики MAP@N')"
      ]
     },
     "execution_count": 79,
     "metadata": {},
     "output_type": "execute_result"
    },
    {
     "data": {
      "image/png": "[encoded data removed]",
      "text/plain": [
       "<Figure size 576x576 with 1 Axes>"
      ]
     },
     "metadata": {
      "needs_background": "light"
     },
     "output_type": "display_data"
    }
   ],
   "source": [
    "results_ax = pd.DataFrame([results]).plot(y=['random', 'popularity', 'tourist_popularity', 'popular_rubrics'], kind='bar', figsize=(8,8))\n",
    "results_ax.set_xlabel('Методы')\n",
    "results_ax.set_ylabel('Значение метрики MAP@N')"
   ]
  },
  {
   "cell_type": "markdown",
   "id": "7f170261",
   "metadata": {},
   "source": [
    "Источники\n",
    "1. K. Falk, Practical recommender systems. Shelter Island, NY: Manning, 2019.\n",
    "2. «Mean Average Precision (MAP) For Recommender Systems», Evening Session, 13:30:00-04:00 г. https://sdsawtelle.github.io/blog/output/./mean-average-precision-MAP-for-recommender-systems.html (просмотрено 5 июнь 2022 г.).\n",
    "3. «Netflix Prize», Wikipedia. 16 апрель 2022 г. Просмотрено: 6 июнь 2022 г. [Онлайн]. Доступно на: https://en.wikipedia.org/w/index.php?title=Netflix_Prize&oldid=1083006521"
   ]
  }
 ],
 "metadata": {
  "jupytercloud": {
   "vault": {
    "secrets": [
     {
      "name": "yt_secrets",
      "uuid": "sec-01fd5qjpw0xwwpv6t83wc41tp8"
     }
    ]
   }
  },
  "kernelspec": {
   "display_name": "Python 3 (ipykernel)",
   "language": "python",
   "name": "python3"
  },
  "language_info": {
   "codemirror_mode": {
    "name": "ipython",
    "version": 3
   },
   "file_extension": ".py",
   "mimetype": "text/x-python",
   "name": "python",
   "nbconvert_exporter": "python",
   "pygments_lexer": "ipython3",
   "version": "3.8.10"
  }
 },
 "nbformat": 4,
 "nbformat_minor": 5
}
